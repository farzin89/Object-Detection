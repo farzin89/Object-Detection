{
  "nbformat": 4,
  "nbformat_minor": 0,
  "metadata": {
    "colab": {
      "name": "Untitled4.ipynb",
      "provenance": [],
      "authorship_tag": "ABX9TyPI9kUOpnytqAFEJZsN042E",
      "include_colab_link": true
    },
    "kernelspec": {
      "name": "python3",
      "display_name": "Python 3"
    },
    "language_info": {
      "name": "python"
    }
  },
  "cells": [
    {
      "cell_type": "markdown",
      "metadata": {
        "id": "view-in-github",
        "colab_type": "text"
      },
      "source": [
        "<a href=\"https://colab.research.google.com/github/farzin89/Object-Detection/blob/main/Untitled4.ipynb\" target=\"_parent\"><img src=\"https://colab.research.google.com/assets/colab-badge.svg\" alt=\"Open In Colab\"/></a>"
      ]
    },
    {
      "cell_type": "code",
      "metadata": {
        "colab": {
          "base_uri": "https://localhost:8080/"
        },
        "id": "ta-hRlBh-7Fj",
        "outputId": "c5c70377-e96c-4a4d-fd06-3a294732996b"
      },
      "source": [
        "import tensorflow \n",
        "import matplotlib.pyplot as plt\n",
        "import numpy as np\n",
        "from tensorflow.keras.layers import Conv2D, Input, Dense, MaxPool2D, BatchNormalization, GlobalAvgPool2D\n",
        "from tensorflow.python.keras import activations\n",
        "\n",
        "from deeplearning_models import functional_model, MyCustomModel\n",
        "from my_utils import display_some_examples\n",
        "\n",
        "\n",
        "# tensorflow.keras.Sequential\n",
        "seq_model = tensorflow.keras.Sequential(\n",
        "    [\n",
        "        Input(shape=(28,28,1)),\n",
        "        Conv2D(32, (3,3), activation='relu'),\n",
        "        Conv2D(64, (3,3), activation='relu'),\n",
        "        MaxPool2D(),\n",
        "        BatchNormalization(),\n",
        "\n",
        "        Conv2D(128, (3,3), activation='relu'),\n",
        "        MaxPool2D(),\n",
        "        BatchNormalization(),\n",
        "\n",
        "        GlobalAvgPool2D(),\n",
        "        Dense(64, activation='relu'),\n",
        "        Dense(10, activation='softmax')\n",
        "    ]\n",
        ")\n",
        "\n",
        "\n",
        "\n",
        "if __name__=='__main__':\n",
        "    \n",
        "    (x_train, y_train), (x_test, y_test) = tensorflow.keras.datasets.mnist.load_data()\n",
        "\n",
        "    print(\"x_train.shape = \", x_train.shape)\n",
        "    print(\"y_train.shape = \", y_train.shape)\n",
        "    print(\"x_test.shape = \", x_test.shape)\n",
        "    print(\"y_test.shape = \", y_test.shape)\n",
        "\n",
        "    if False:\n",
        "        display_some_examples(x_train, y_train)\n",
        "\n",
        "    x_train = x_train.astype('float32') / 255\n",
        "    x_test = x_test.astype('float32') / 255\n",
        "\n",
        "    x_train = np.expand_dims(x_train, axis=-1)\n",
        "    x_test = np.expand_dims(x_test, axis=-1)\n",
        "\n",
        "    y_train = tensorflow.keras.utils.to_categorical(y_train, 10)\n",
        "    y_test = tensorflow.keras.utils.to_categorical(y_test, 10)\n",
        "\n",
        "    #model = functional_model()\n",
        "    model = MyCustomModel()\n",
        "    model.compile(optimizer='adam', loss='categorical_crossentropy', metrics='accuracy')\n",
        "\n",
        "    # label : 2\n",
        "    # one hot encoding : 2\n",
        "\n",
        "    # model training\n",
        "    model.fit(x_train, y_train, batch_size=64, epochs=3, validation_split=0.2)\n",
        "\n",
        "    # Evaluation on test set\n",
        "    model.evaluate(x_test, y_test, batch_size=64)"
      ],
      "execution_count": null,
      "outputs": [
        {
          "output_type": "stream",
          "name": "stdout",
          "text": [
            "Downloading data from https://storage.googleapis.com/tensorflow/tf-keras-datasets/mnist.npz\n",
            "11493376/11490434 [==============================] - 0s 0us/step\n",
            "11501568/11490434 [==============================] - 0s 0us/step\n",
            "x_train.shape =  (60000, 28, 28)\n",
            "y_train.shape =  (60000,)\n",
            "x_test.shape =  (10000, 28, 28)\n",
            "y_test.shape =  (10000,)\n",
            "Epoch 1/3\n",
            "750/750 [==============================] - 197s 261ms/step - loss: 0.2521 - accuracy: 0.9303 - val_loss: 0.2010 - val_accuracy: 0.9328\n",
            "Epoch 2/3\n",
            "750/750 [==============================] - 216s 288ms/step - loss: 0.0544 - accuracy: 0.9832 - val_loss: 0.0831 - val_accuracy: 0.9746\n",
            "Epoch 3/3\n",
            "750/750 [==============================] - 206s 275ms/step - loss: 0.0373 - accuracy: 0.9886 - val_loss: 0.0829 - val_accuracy: 0.9756\n",
            "157/157 [==============================] - 10s 66ms/step - loss: 0.0794 - accuracy: 0.9754\n"
          ]
        }
      ]
    }
  ]
}